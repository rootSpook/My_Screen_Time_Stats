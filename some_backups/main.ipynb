{
 "cells": [
  {
   "cell_type": "markdown",
   "id": "35db3311",
   "metadata": {},
   "source": [
    "# Screen Time and Notifications Analysis Project"
   ]
  },
  {
   "cell_type": "markdown",
   "id": "0018727f",
   "metadata": {},
   "source": [
    "This project analyzes the relationship between screen time and the number of notifications received. The goal is to explore patterns and test the hypothesis: **'Screen time is directly proportional to the number of notifications.'**"
   ]
  },
  {
   "cell_type": "markdown",
   "id": "f277608e",
   "metadata": {},
   "source": [
    "## Setup"
   ]
  },
  {
   "cell_type": "code",
   "execution_count": null,
   "id": "6da87281",
   "metadata": {},
   "outputs": [],
   "source": [
    "\n",
    "# Import necessary libraries\n",
    "import pandas as pd\n",
    "import matplotlib.pyplot as plt\n",
    "import seaborn as sns\n",
    "import numpy as np\n",
    "\n",
    "# Load the dataset\n",
    "file_path = 'data.xlsx'  # Replace with your file path if needed\n",
    "df = pd.read_excel(file_path)\n",
    "\n",
    "# Display the first few rows of the dataset\n",
    "df.head()\n"
   ]
  },
  {
   "cell_type": "markdown",
   "id": "1328757d",
   "metadata": {},
   "source": [
    "## Data Exploration"
   ]
  },
  {
   "cell_type": "code",
   "execution_count": null,
   "id": "c4a7762f",
   "metadata": {},
   "outputs": [],
   "source": [
    "\n",
    "# Explore basic information about the dataset\n",
    "df.info()\n",
    "\n",
    "# Statistical summary of the dataset\n",
    "df.describe()\n"
   ]
  },
  {
   "cell_type": "markdown",
   "id": "059aa058",
   "metadata": {},
   "source": [
    "## Visualizations"
   ]
  },
  {
   "cell_type": "markdown",
   "id": "3c78fada",
   "metadata": {},
   "source": [
    "### Scatter Plot: App Screen Time Day by Day"
   ]
  },
  {
   "cell_type": "code",
   "execution_count": null,
   "id": "b004036e",
   "metadata": {},
   "outputs": [],
   "source": [
    "\n",
    "# Filter out the total row to focus on individual app usage\n",
    "app_data = df[df['app'] != 'total']\n",
    "\n",
    "# Create scatter plots for app time day by day\n",
    "plt.figure(figsize=(12, 8))\n",
    "for app in app_data['app'].unique():\n",
    "    app_subset = app_data[app_data['app'] == app]\n",
    "    plt.scatter(app_subset['day'], app_subset['time (minutes)'], label=app, alpha=0.7)\n",
    "\n",
    "# Customize the plot\n",
    "plt.title('App Screen Time Day by Day', fontsize=16)\n",
    "plt.xlabel('Day', fontsize=14)\n",
    "plt.ylabel('Screen Time (minutes)', fontsize=14)\n",
    "plt.legend(title='Apps', fontsize=10, loc='upper right')\n",
    "plt.grid(True)\n",
    "plt.show()\n"
   ]
  },
  {
   "cell_type": "markdown",
   "id": "de3ff4c6",
   "metadata": {},
   "source": [
    "### Bar Chart: Total Screen Time per Day"
   ]
  },
  {
   "cell_type": "code",
   "execution_count": null,
   "id": "1601578b",
   "metadata": {},
   "outputs": [],
   "source": [
    "\n",
    "# Filter the data for total screen time\n",
    "total_data = df[df['app'] == 'total']\n",
    "\n",
    "# Create a bar chart for total screen time by day\n",
    "plt.figure(figsize=(10, 6))\n",
    "plt.bar(total_data['day'], total_data['time (minutes)'], color='skyblue', alpha=0.8)\n",
    "\n",
    "# Customize the plot\n",
    "plt.title('Total Screen Time per Day', fontsize=16)\n",
    "plt.xlabel('Day', fontsize=14)\n",
    "plt.ylabel('Total Screen Time (minutes)', fontsize=14)\n",
    "plt.xticks(total_data['day'])\n",
    "plt.grid(axis='y', linestyle='--', alpha=0.7)\n",
    "plt.show()\n"
   ]
  },
  {
   "cell_type": "markdown",
   "id": "a74bb63e",
   "metadata": {},
   "source": [
    "### Scatter Plot: Time/Notification Ratio"
   ]
  },
  {
   "cell_type": "code",
   "execution_count": null,
   "id": "4ebf00d2",
   "metadata": {},
   "outputs": [],
   "source": [
    "\n",
    "# Calculate the ratio of time to notifications\n",
    "total_data['time_per_notification'] = total_data['time (minutes)'] / total_data['notifications']\n",
    "\n",
    "# Handle division by zero (if any notifications are zero)\n",
    "total_data = total_data[total_data['notifications'] != 0]\n",
    "\n",
    "# Create a scatter chart for time/notification ratio\n",
    "plt.figure(figsize=(10, 6))\n",
    "plt.scatter(total_data['day'], total_data['time_per_notification'], color='purple', alpha=0.8)\n",
    "\n",
    "# Customize the plot\n",
    "plt.title('Ratio of Time to Notifications for Total Screen Time', fontsize=16)\n",
    "plt.xlabel('Day', fontsize=14)\n",
    "plt.ylabel('Time per Notification (minutes)', fontsize=14)\n",
    "plt.grid(True, linestyle='--', alpha=0.7)\n",
    "plt.show()\n"
   ]
  },
  {
   "cell_type": "markdown",
   "id": "fee1e623",
   "metadata": {},
   "source": [
    "### Dual-Axis Chart: Comparison of Total Screen Time and Notifications"
   ]
  },
  {
   "cell_type": "code",
   "execution_count": null,
   "id": "fcf3b1df",
   "metadata": {},
   "outputs": [],
   "source": [
    "\n",
    "# Create the figure and axis\n",
    "fig, ax1 = plt.subplots(figsize=(10, 6))\n",
    "\n",
    "# Bar chart for total screen time\n",
    "ax1.bar(total_data['day'], total_data['time (minutes)'], color='skyblue', alpha=0.7, label='Screen Time (minutes)')\n",
    "ax1.set_xlabel('Day', fontsize=14)\n",
    "ax1.set_ylabel('Screen Time (minutes)', fontsize=14, color='blue')\n",
    "ax1.tick_params(axis='y', labelcolor='blue')\n",
    "\n",
    "# Add a second y-axis for notifications\n",
    "ax2 = ax1.twinx()\n",
    "ax2.plot(total_data['day'], total_data['notifications'], color='orange', marker='o', label='Notifications')\n",
    "ax2.set_ylabel('Total Notifications', fontsize=14, color='orange')\n",
    "ax2.tick_params(axis='y', labelcolor='orange')\n",
    "\n",
    "# Add title and legend\n",
    "plt.title('Comparison of Total Screen Time and Notifications', fontsize=16)\n",
    "fig.tight_layout()\n",
    "plt.grid(axis='x', linestyle='--', alpha=0.7)\n",
    "plt.show()\n"
   ]
  },
  {
   "cell_type": "markdown",
   "id": "336bb6e3",
   "metadata": {},
   "source": [
    "## Conclusion"
   ]
  },
  {
   "cell_type": "markdown",
   "id": "32007bbc",
   "metadata": {},
   "source": [
    "This analysis demonstrates the patterns and relationships between screen time and notifications. Further insights can be drawn by testing the hypothesis and exploring other factors influencing screen time."
   ]
  }
 ],
 "metadata": {},
 "nbformat": 4,
 "nbformat_minor": 5
}
